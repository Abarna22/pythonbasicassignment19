{
 "cells": [
  {
   "cell_type": "code",
   "execution_count": 3,
   "id": "f7a4cf76",
   "metadata": {},
   "outputs": [
    {
     "name": "stdout",
     "output_type": "stream",
     "text": [
      "Enter a string:string\n",
      "ssttrriinngg\n"
     ]
    }
   ],
   "source": [
    "#qp1\n",
    "\n",
    "def double_char(s):\n",
    "    c=\"\"\n",
    "    for i in s:\n",
    "        c=c+i+i\n",
    "    return c\n",
    "st=input(\"Enter a string:\")\n",
    "print(double_char(st))"
   ]
  },
  {
   "cell_type": "code",
   "execution_count": 8,
   "id": "e9d191a1",
   "metadata": {},
   "outputs": [
    {
     "name": "stdout",
     "output_type": "stream",
     "text": [
      "False\n",
      "True\n",
      "boolean expected\n",
      "boolean expected\n"
     ]
    }
   ],
   "source": [
    "#qp2\n",
    "\n",
    "def reverse(arg):\n",
    "    if isinstance(arg, bool):\n",
    "        return not arg\n",
    "    else:\n",
    "        return('boolean expected')\n",
    "\n",
    "def reverse(arg=None):\n",
    "    return not arg if type(arg) == bool else \"boolean expected\"\n",
    "\n",
    "print(reverse(True)) \n",
    "print(reverse(False)) \n",
    "print(reverse(0)) \n",
    "print(reverse(None)) \n"
   ]
  },
  {
   "cell_type": "code",
   "execution_count": 10,
   "id": "38e5e5bf",
   "metadata": {},
   "outputs": [
    {
     "name": "stdout",
     "output_type": "stream",
     "text": [
      "Enter the number:4\n",
      "0.008\n"
     ]
    }
   ],
   "source": [
    "#qp3\n",
    "\n",
    "def fn(a):\n",
    "    res = 0.5\n",
    "    for _ in range(a):\n",
    "        res *= 2  \n",
    "    return res / 1000 \n",
    "\n",
    "r=int(input(\"Enter the number:\"))\n",
    "print(fn(r))"
   ]
  },
  {
   "cell_type": "code",
   "execution_count": 17,
   "id": "0bb0611b",
   "metadata": {},
   "outputs": [
    {
     "name": "stdout",
     "output_type": "stream",
     "text": [
      "[0, 1]\n"
     ]
    }
   ],
   "source": [
    "#qp 4\n",
    "\n",
    "def index_of_caps(word):\n",
    "    char_list=[idx for idx, chr in enumerate(word) if chr.isupper()]\n",
    "    return char_list\n",
    "print(index_of_caps(\"HEllo\"))"
   ]
  },
  {
   "cell_type": "code",
   "execution_count": 20,
   "id": "b0ca0307",
   "metadata": {},
   "outputs": [
    {
     "name": "stdout",
     "output_type": "stream",
     "text": [
      "[2, 4, 6, 8]\n"
     ]
    }
   ],
   "source": [
    "#qp5\n",
    "\n",
    "def findeven(n):\n",
    "    le=[i for i in range(1,n+1) if i%2==0]\n",
    "    return le\n",
    "print(findeven(8))"
   ]
  },
  {
   "cell_type": "code",
   "execution_count": null,
   "id": "74a764c2",
   "metadata": {},
   "outputs": [],
   "source": []
  }
 ],
 "metadata": {
  "kernelspec": {
   "display_name": "Python 3 (ipykernel)",
   "language": "python",
   "name": "python3"
  },
  "language_info": {
   "codemirror_mode": {
    "name": "ipython",
    "version": 3
   },
   "file_extension": ".py",
   "mimetype": "text/x-python",
   "name": "python",
   "nbconvert_exporter": "python",
   "pygments_lexer": "ipython3",
   "version": "3.9.12"
  }
 },
 "nbformat": 4,
 "nbformat_minor": 5
}
